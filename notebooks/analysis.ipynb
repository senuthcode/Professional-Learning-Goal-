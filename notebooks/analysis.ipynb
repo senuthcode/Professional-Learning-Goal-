{
 "cells": [
  {
   "cell_type": "markdown",
   "metadata": {},
   "source": [
    "Importing Libraries "
   ]
  },
  {
   "cell_type": "code",
   "execution_count": null,
   "metadata": {},
   "outputs": [],
   "source": [
    "#!pip install pandas numpy matplotlib seaborn scipy\n",
    "\n",
    "# Import libraries\n",
    "import pandas as pd\n",
    "import numpy as np\n",
    "import matplotlib.pyplot as plt\n",
    "import seaborn as sns"
   ]
  },
  {
   "cell_type": "markdown",
   "metadata": {},
   "source": [
    "Importing Datasets"
   ]
  },
  {
   "cell_type": "code",
   "execution_count": null,
   "metadata": {},
   "outputs": [],
   "source": [
    "df1 = pd.read_csv(\"../data/citations.csv\") #citations\n",
    "df2 = pd.read_csv(\"../data/reproducibility_stamp.csv\") #repStamp\n",
    "merged_df = df1.merge(df2[['Title','DOI']], on ='Title', how='left',suffixes=('', '_from_Rep_Sta'))\n",
    "merged_df['DOI'] = merged_df['DOI'].combine_first(merged_df['DOI_from_Rep_Sta'])\n",
    "merged_df.head()\n",
    "merged_df.drop(columns=['DOI_from_Rep_Sta'],inplace=True)\n",
    "merged_df.to_csv(r'../data/merged_data.csv', index=False)\n",
    "#merged citations.csv with reproducibility_stamp, now the rows with a DOI are of reports with reproducibility stamps"
   ]
  },
  {
   "cell_type": "markdown",
   "metadata": {},
   "source": [
    "Preprocessing Initialization"
   ]
  },
  {
   "cell_type": "code",
   "execution_count": null,
   "metadata": {},
   "outputs": [],
   "source": [
    "# Remove rows with missing citation or reproducibility data\n",
    "coloumns_to_drop = ['ISSN', 'Volume', 'Issue', 'StartPage', 'EndPage', 'CitationURL', 'FullTextURL', 'RelatedURL']\n",
    "merged_df.drop(columns=coloumns_to_drop, inplace=True, errors='ignore')\n",
    "merged_df['IsReproducible?'] = merged_df['DOI'].notnull().astype(int) # added a reproducible boolean\n",
    "merged_df.to_csv('./test.csv', index=False)\n"
   ]
  },
  {
   "cell_type": "markdown",
   "metadata": {},
   "source": [
    "TODO\n",
    "\n",
    "Balancing (SMOTE)\n",
    "Outlier removal\n",
    "Duplicate Rows\n",
    "Null values\n",
    "Normalization\n",
    "DATATYPE CHECK"
   ]
  },
  {
   "cell_type": "code",
   "execution_count": 61,
   "metadata": {},
   "outputs": [
    {
     "name": "stdout",
     "output_type": "stream",
     "text": [
      "<class 'pandas.core.frame.DataFrame'>\n",
      "RangeIndex: 1400 entries, 0 to 1399\n",
      "Data columns (total 15 columns):\n",
      " #   Column           Non-Null Count  Dtype \n",
      "---  ------           --------------  ----- \n",
      " 0   Authors          1400 non-null   object\n",
      " 1   Title            1400 non-null   object\n",
      " 2   Year             1400 non-null   int64 \n",
      " 3   Source           1398 non-null   object\n",
      " 4   Publisher        1391 non-null   object\n",
      " 5   ArticleURL       1337 non-null   object\n",
      " 6   CitesURL         1204 non-null   object\n",
      " 7   GSRank           1400 non-null   int64 \n",
      " 8   QueryDate        1400 non-null   object\n",
      " 9   Type             278 non-null    object\n",
      " 10  DOI              88 non-null     object\n",
      " 11  AuthorCount      1400 non-null   int64 \n",
      " 12  Age              1400 non-null   int64 \n",
      " 13  Abstract         1336 non-null   object\n",
      " 14  IsReproducible?  1400 non-null   int64 \n",
      "dtypes: int64(5), object(10)\n",
      "memory usage: 164.2+ KB\n"
     ]
    },
    {
     "data": {
      "text/plain": [
       "Authors               0\n",
       "Title                 0\n",
       "Year                  0\n",
       "Source                2\n",
       "Publisher             9\n",
       "ArticleURL           63\n",
       "CitesURL            196\n",
       "GSRank                0\n",
       "QueryDate             0\n",
       "Type               1122\n",
       "DOI                1312\n",
       "AuthorCount           0\n",
       "Age                   0\n",
       "Abstract             64\n",
       "IsReproducible?       0\n",
       "dtype: int64"
      ]
     },
     "execution_count": 61,
     "metadata": {},
     "output_type": "execute_result"
    }
   ],
   "source": [
    "\n",
    "# Checking what were left with, including nulls and counts and datatypes\n",
    "merged_df.info()\n",
    "merged_df.isnull().sum()\n",
    "\n",
    "\n"
   ]
  },
  {
   "cell_type": "code",
   "execution_count": null,
   "metadata": {},
   "outputs": [],
   "source": [
    "merged_df.nunique() # checking for unique values\n"
   ]
  }
 ],
 "metadata": {
  "kernelspec": {
   "display_name": ".venv",
   "language": "python",
   "name": "python3"
  },
  "language_info": {
   "codemirror_mode": {
    "name": "ipython",
    "version": 3
   },
   "file_extension": ".py",
   "mimetype": "text/x-python",
   "name": "python",
   "nbconvert_exporter": "python",
   "pygments_lexer": "ipython3",
   "version": "3.11.9"
  }
 },
 "nbformat": 4,
 "nbformat_minor": 2
}
